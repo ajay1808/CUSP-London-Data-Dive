{
 "cells": [
  {
   "cell_type": "code",
   "execution_count": 1,
   "id": "a2b653e5",
   "metadata": {},
   "outputs": [],
   "source": [
    "import requests\n",
    "import sys\n",
    "import pandas as pd\n",
    "import time\n",
    "from datetime import date, timedelta\n",
    "import socket\n",
    "import warnings\n",
    "warnings.filterwarnings(\"ignore\")\n",
    "import datetime as dt\n",
    "from scipy import stats\n",
    "import urllib\n",
    "import geopandas as gpd\n",
    "from shapely.geometry import Point\n",
    "from matplotlib import pyplot as plt\n",
    "%matplotlib inline"
   ]
  },
  {
   "cell_type": "code",
   "execution_count": 2,
   "id": "229bf91d",
   "metadata": {},
   "outputs": [
    {
     "data": {
      "text/html": [
       "<div>\n",
       "<style scoped>\n",
       "    .dataframe tbody tr th:only-of-type {\n",
       "        vertical-align: middle;\n",
       "    }\n",
       "\n",
       "    .dataframe tbody tr th {\n",
       "        vertical-align: top;\n",
       "    }\n",
       "\n",
       "    .dataframe thead th {\n",
       "        text-align: right;\n",
       "    }\n",
       "</style>\n",
       "<table border=\"1\" class=\"dataframe\">\n",
       "  <thead>\n",
       "    <tr style=\"text-align: right;\">\n",
       "      <th></th>\n",
       "      <th>LOCAL HEALTH UNIT</th>\n",
       "      <th>OPERATION NAME</th>\n",
       "      <th>CITY</th>\n",
       "      <th>STATE</th>\n",
       "      <th>ZIP</th>\n",
       "      <th>MUNICIPALITY</th>\n",
       "      <th>COUNTY</th>\n",
       "      <th>VENDOR TYPE</th>\n",
       "      <th>CREATION DATE</th>\n",
       "      <th>LOCATION</th>\n",
       "    </tr>\n",
       "  </thead>\n",
       "  <tbody>\n",
       "    <tr>\n",
       "      <th>0</th>\n",
       "      <td>NYC</td>\n",
       "      <td>243 W 34TH ST RETAIL CORP</td>\n",
       "      <td>NEW YORK</td>\n",
       "      <td>NY</td>\n",
       "      <td>10001</td>\n",
       "      <td>MANHATTAN</td>\n",
       "      <td>NEW YORK CITY</td>\n",
       "      <td>CONVENIENCE STORE</td>\n",
       "      <td>11/10/2020</td>\n",
       "      <td>243 WEST 34TH STREET\\nNEW YORK, NY 10001\\n(40....</td>\n",
       "    </tr>\n",
       "    <tr>\n",
       "      <th>1</th>\n",
       "      <td>NYC</td>\n",
       "      <td>KDEANSKY, MARILYN</td>\n",
       "      <td>NEW YORK</td>\n",
       "      <td>NY</td>\n",
       "      <td>10001</td>\n",
       "      <td>MANHATTAN</td>\n",
       "      <td>NEW YORK CITY</td>\n",
       "      <td>TOBACCO RETAIL</td>\n",
       "      <td>11/10/2020</td>\n",
       "      <td>N/W/C WEST 34TH ST &amp; 7TH AVENUE\\nNEW YORK, NY ...</td>\n",
       "    </tr>\n",
       "    <tr>\n",
       "      <th>2</th>\n",
       "      <td>NYC</td>\n",
       "      <td>32ND STREET NEWS STAND INC.</td>\n",
       "      <td>NEW YORK</td>\n",
       "      <td>NY</td>\n",
       "      <td>10001</td>\n",
       "      <td>MANHATTAN</td>\n",
       "      <td>NEW YORK CITY</td>\n",
       "      <td>OTHER</td>\n",
       "      <td>11/10/2020</td>\n",
       "      <td>39 WEST 32ND STREET\\nNEW YORK, NY 10001\\n(40.7...</td>\n",
       "    </tr>\n",
       "    <tr>\n",
       "      <th>3</th>\n",
       "      <td>NYC</td>\n",
       "      <td>HOOKAH PLUS INC</td>\n",
       "      <td>NEW YORK</td>\n",
       "      <td>NY</td>\n",
       "      <td>10001</td>\n",
       "      <td>NEW YORK CITY</td>\n",
       "      <td>NEW YORK CITY</td>\n",
       "      <td>GROCERY SUPERMARKET</td>\n",
       "      <td>11/10/2020</td>\n",
       "      <td>11 WEST 27TH STREET\\nNEW YORK, NY 10001\\n(40.7...</td>\n",
       "    </tr>\n",
       "    <tr>\n",
       "      <th>4</th>\n",
       "      <td>NYC</td>\n",
       "      <td>HEADLINE NEWS II INC</td>\n",
       "      <td>NEW YORK</td>\n",
       "      <td>NY</td>\n",
       "      <td>10001</td>\n",
       "      <td>MANHATTAN</td>\n",
       "      <td>NEW YORK CITY</td>\n",
       "      <td>GROCERY SUPERMARKET</td>\n",
       "      <td>11/10/2020</td>\n",
       "      <td>152 WEST 31ST STREET\\nNEW YORK, NY 10001\\n(40....</td>\n",
       "    </tr>\n",
       "  </tbody>\n",
       "</table>\n",
       "</div>"
      ],
      "text/plain": [
       "  LOCAL HEALTH UNIT               OPERATION NAME      CITY STATE    ZIP  \\\n",
       "0               NYC    243 W 34TH ST RETAIL CORP  NEW YORK    NY  10001   \n",
       "1               NYC            KDEANSKY, MARILYN  NEW YORK    NY  10001   \n",
       "2               NYC  32ND STREET NEWS STAND INC.  NEW YORK    NY  10001   \n",
       "3               NYC              HOOKAH PLUS INC  NEW YORK    NY  10001   \n",
       "4               NYC         HEADLINE NEWS II INC  NEW YORK    NY  10001   \n",
       "\n",
       "    MUNICIPALITY         COUNTY          VENDOR TYPE CREATION DATE  \\\n",
       "0      MANHATTAN  NEW YORK CITY    CONVENIENCE STORE    11/10/2020   \n",
       "1      MANHATTAN  NEW YORK CITY       TOBACCO RETAIL    11/10/2020   \n",
       "2      MANHATTAN  NEW YORK CITY                OTHER    11/10/2020   \n",
       "3  NEW YORK CITY  NEW YORK CITY  GROCERY SUPERMARKET    11/10/2020   \n",
       "4      MANHATTAN  NEW YORK CITY  GROCERY SUPERMARKET    11/10/2020   \n",
       "\n",
       "                                            LOCATION  \n",
       "0  243 WEST 34TH STREET\\nNEW YORK, NY 10001\\n(40....  \n",
       "1  N/W/C WEST 34TH ST & 7TH AVENUE\\nNEW YORK, NY ...  \n",
       "2  39 WEST 32ND STREET\\nNEW YORK, NY 10001\\n(40.7...  \n",
       "3  11 WEST 27TH STREET\\nNEW YORK, NY 10001\\n(40.7...  \n",
       "4  152 WEST 31ST STREET\\nNEW YORK, NY 10001\\n(40....  "
      ]
     },
     "execution_count": 2,
     "metadata": {},
     "output_type": "execute_result"
    }
   ],
   "source": [
    "smoke_data=pd.read_csv(\"Active_Tobacco_Retailer_Map.csv\")\n",
    "smoke_data.head()"
   ]
  },
  {
   "cell_type": "code",
   "execution_count": 3,
   "id": "06fc0389",
   "metadata": {},
   "outputs": [
    {
     "data": {
      "text/plain": [
       "0       243 WEST 34TH STREET\\nNEW YORK, NY 10001\\n(40....\n",
       "1       N/W/C WEST 34TH ST & 7TH AVENUE\\nNEW YORK, NY ...\n",
       "2       39 WEST 32ND STREET\\nNEW YORK, NY 10001\\n(40.7...\n",
       "3       11 WEST 27TH STREET\\nNEW YORK, NY 10001\\n(40.7...\n",
       "4       152 WEST 31ST STREET\\nNEW YORK, NY 10001\\n(40....\n",
       "                              ...                        \n",
       "9298    206    BEACH 116TH STREET\\nROCKAWAY PARK, NY 1...\n",
       "9299    186 BEACH 116TH  STREET\\nROCKAWAY  PARK, NY 11...\n",
       "9300    206 BEACH 116TH STREET\\nROCKAWAY, NY 11694\\n(4...\n",
       "9301    413 BEACH 129TH STREET\\nBELLE HABOR, NY 11694\\...\n",
       "9302    202-36 ROCKAWAY POINT BOULEVARD\\nROCKAWAY POIN...\n",
       "Name: LOCATION, Length: 9303, dtype: object"
      ]
     },
     "execution_count": 3,
     "metadata": {},
     "output_type": "execute_result"
    }
   ],
   "source": [
    "smoke_data[\"LOCATION\"]"
   ]
  },
  {
   "cell_type": "code",
   "execution_count": 4,
   "id": "cd14ee4d",
   "metadata": {},
   "outputs": [
    {
     "data": {
      "text/plain": [
       "Index(['LOCAL HEALTH UNIT', 'OPERATION NAME', 'CITY', 'STATE', 'ZIP',\n",
       "       'MUNICIPALITY', 'COUNTY', 'VENDOR TYPE', 'CREATION DATE', 'LOCATION'],\n",
       "      dtype='object')"
      ]
     },
     "execution_count": 4,
     "metadata": {},
     "output_type": "execute_result"
    }
   ],
   "source": [
    "smoke_data.columns"
   ]
  },
  {
   "cell_type": "code",
   "execution_count": 5,
   "id": "fb99113c",
   "metadata": {},
   "outputs": [
    {
     "data": {
      "text/plain": [
       "'40.750980033000076'"
      ]
     },
     "execution_count": 5,
     "metadata": {},
     "output_type": "execute_result"
    }
   ],
   "source": [
    "smoke_data['LOCATION'][1].split(\"\\n\")[2].replace(\"(\", \"\").replace(\")\", \"\").split(\",\")[0]"
   ]
  },
  {
   "cell_type": "code",
   "execution_count": 6,
   "id": "d5f44c80",
   "metadata": {},
   "outputs": [
    {
     "data": {
      "text/plain": [
       "(9303, 10)"
      ]
     },
     "execution_count": 6,
     "metadata": {},
     "output_type": "execute_result"
    }
   ],
   "source": [
    "smoke_data.shape"
   ]
  },
  {
   "cell_type": "code",
   "execution_count": 7,
   "id": "5fe409ae",
   "metadata": {},
   "outputs": [],
   "source": [
    "smoke_data['LONGITUDE']=0\n",
    "smoke_data['LATITUDE']=0"
   ]
  },
  {
   "cell_type": "code",
   "execution_count": 8,
   "id": "2aef58a7",
   "metadata": {},
   "outputs": [
    {
     "data": {
      "text/plain": [
       "Index(['LOCAL HEALTH UNIT', 'OPERATION NAME', 'CITY', 'STATE', 'ZIP',\n",
       "       'MUNICIPALITY', 'COUNTY', 'VENDOR TYPE', 'CREATION DATE', 'LOCATION',\n",
       "       'LONGITUDE', 'LATITUDE'],\n",
       "      dtype='object')"
      ]
     },
     "execution_count": 8,
     "metadata": {},
     "output_type": "execute_result"
    }
   ],
   "source": [
    "smoke_data.columns"
   ]
  },
  {
   "cell_type": "code",
   "execution_count": 9,
   "id": "17a1299a",
   "metadata": {},
   "outputs": [
    {
     "data": {
      "text/html": [
       "<div>\n",
       "<style scoped>\n",
       "    .dataframe tbody tr th:only-of-type {\n",
       "        vertical-align: middle;\n",
       "    }\n",
       "\n",
       "    .dataframe tbody tr th {\n",
       "        vertical-align: top;\n",
       "    }\n",
       "\n",
       "    .dataframe thead th {\n",
       "        text-align: right;\n",
       "    }\n",
       "</style>\n",
       "<table border=\"1\" class=\"dataframe\">\n",
       "  <thead>\n",
       "    <tr style=\"text-align: right;\">\n",
       "      <th></th>\n",
       "      <th>LOCAL HEALTH UNIT</th>\n",
       "      <th>OPERATION NAME</th>\n",
       "      <th>CITY</th>\n",
       "      <th>STATE</th>\n",
       "      <th>ZIP</th>\n",
       "      <th>MUNICIPALITY</th>\n",
       "      <th>COUNTY</th>\n",
       "      <th>VENDOR TYPE</th>\n",
       "      <th>CREATION DATE</th>\n",
       "      <th>LOCATION</th>\n",
       "      <th>LATITUDE</th>\n",
       "      <th>LONGITUDE</th>\n",
       "    </tr>\n",
       "  </thead>\n",
       "  <tbody>\n",
       "    <tr>\n",
       "      <th>0</th>\n",
       "      <td>NYC</td>\n",
       "      <td>243 W 34TH ST RETAIL CORP</td>\n",
       "      <td>NEW YORK</td>\n",
       "      <td>NY</td>\n",
       "      <td>10001</td>\n",
       "      <td>MANHATTAN</td>\n",
       "      <td>NEW YORK CITY</td>\n",
       "      <td>CONVENIENCE STORE</td>\n",
       "      <td>11/10/2020</td>\n",
       "      <td>243 WEST 34TH STREET\\nNEW YORK, NY 10001\\n(40....</td>\n",
       "      <td>40.751790018000065</td>\n",
       "      <td>-73.99211998699997</td>\n",
       "    </tr>\n",
       "    <tr>\n",
       "      <th>1</th>\n",
       "      <td>NYC</td>\n",
       "      <td>KDEANSKY, MARILYN</td>\n",
       "      <td>NEW YORK</td>\n",
       "      <td>NY</td>\n",
       "      <td>10001</td>\n",
       "      <td>MANHATTAN</td>\n",
       "      <td>NEW YORK CITY</td>\n",
       "      <td>TOBACCO RETAIL</td>\n",
       "      <td>11/10/2020</td>\n",
       "      <td>N/W/C WEST 34TH ST &amp; 7TH AVENUE\\nNEW YORK, NY ...</td>\n",
       "      <td>40.750980033000076</td>\n",
       "      <td>-73.99058995499996</td>\n",
       "    </tr>\n",
       "    <tr>\n",
       "      <th>2</th>\n",
       "      <td>NYC</td>\n",
       "      <td>32ND STREET NEWS STAND INC.</td>\n",
       "      <td>NEW YORK</td>\n",
       "      <td>NY</td>\n",
       "      <td>10001</td>\n",
       "      <td>MANHATTAN</td>\n",
       "      <td>NEW YORK CITY</td>\n",
       "      <td>OTHER</td>\n",
       "      <td>11/10/2020</td>\n",
       "      <td>39 WEST 32ND STREET\\nNEW YORK, NY 10001\\n(40.7...</td>\n",
       "      <td>40.74805001300007</td>\n",
       "      <td>-73.98738396099998</td>\n",
       "    </tr>\n",
       "    <tr>\n",
       "      <th>3</th>\n",
       "      <td>NYC</td>\n",
       "      <td>HOOKAH PLUS INC</td>\n",
       "      <td>NEW YORK</td>\n",
       "      <td>NY</td>\n",
       "      <td>10001</td>\n",
       "      <td>NEW YORK CITY</td>\n",
       "      <td>NEW YORK CITY</td>\n",
       "      <td>GROCERY SUPERMARKET</td>\n",
       "      <td>11/10/2020</td>\n",
       "      <td>11 WEST 27TH STREET\\nNEW YORK, NY 10001\\n(40.7...</td>\n",
       "      <td>40.744290017000026</td>\n",
       "      <td>-73.98805099299994</td>\n",
       "    </tr>\n",
       "    <tr>\n",
       "      <th>4</th>\n",
       "      <td>NYC</td>\n",
       "      <td>HEADLINE NEWS II INC</td>\n",
       "      <td>NEW YORK</td>\n",
       "      <td>NY</td>\n",
       "      <td>10001</td>\n",
       "      <td>MANHATTAN</td>\n",
       "      <td>NEW YORK CITY</td>\n",
       "      <td>GROCERY SUPERMARKET</td>\n",
       "      <td>11/10/2020</td>\n",
       "      <td>152 WEST 31ST STREET\\nNEW YORK, NY 10001\\n(40....</td>\n",
       "      <td>40.748849982000024</td>\n",
       "      <td>-73.99170198199994</td>\n",
       "    </tr>\n",
       "  </tbody>\n",
       "</table>\n",
       "</div>"
      ],
      "text/plain": [
       "  LOCAL HEALTH UNIT               OPERATION NAME      CITY STATE    ZIP  \\\n",
       "0               NYC    243 W 34TH ST RETAIL CORP  NEW YORK    NY  10001   \n",
       "1               NYC            KDEANSKY, MARILYN  NEW YORK    NY  10001   \n",
       "2               NYC  32ND STREET NEWS STAND INC.  NEW YORK    NY  10001   \n",
       "3               NYC              HOOKAH PLUS INC  NEW YORK    NY  10001   \n",
       "4               NYC         HEADLINE NEWS II INC  NEW YORK    NY  10001   \n",
       "\n",
       "    MUNICIPALITY         COUNTY          VENDOR TYPE CREATION DATE  \\\n",
       "0      MANHATTAN  NEW YORK CITY    CONVENIENCE STORE    11/10/2020   \n",
       "1      MANHATTAN  NEW YORK CITY       TOBACCO RETAIL    11/10/2020   \n",
       "2      MANHATTAN  NEW YORK CITY                OTHER    11/10/2020   \n",
       "3  NEW YORK CITY  NEW YORK CITY  GROCERY SUPERMARKET    11/10/2020   \n",
       "4      MANHATTAN  NEW YORK CITY  GROCERY SUPERMARKET    11/10/2020   \n",
       "\n",
       "                                            LOCATION            LATITUDE  \\\n",
       "0  243 WEST 34TH STREET\\nNEW YORK, NY 10001\\n(40....  40.751790018000065   \n",
       "1  N/W/C WEST 34TH ST & 7TH AVENUE\\nNEW YORK, NY ...  40.750980033000076   \n",
       "2  39 WEST 32ND STREET\\nNEW YORK, NY 10001\\n(40.7...   40.74805001300007   \n",
       "3  11 WEST 27TH STREET\\nNEW YORK, NY 10001\\n(40.7...  40.744290017000026   \n",
       "4  152 WEST 31ST STREET\\nNEW YORK, NY 10001\\n(40....  40.748849982000024   \n",
       "\n",
       "             LONGITUDE  \n",
       "0   -73.99211998699997  \n",
       "1   -73.99058995499996  \n",
       "2   -73.98738396099998  \n",
       "3   -73.98805099299994  \n",
       "4   -73.99170198199994  "
      ]
     },
     "execution_count": 9,
     "metadata": {},
     "output_type": "execute_result"
    }
   ],
   "source": [
    "import pandas as pd\n",
    "\n",
    "# read in smoke_data DataFrame from CSV file\n",
    "smoke_data = pd.read_csv(\"Active_Tobacco_Retailer_Map.csv\")\n",
    "\n",
    "for x in smoke_data.index:\n",
    "   smoke_data.loc[x, 'LATITUDE']=smoke_data['LOCATION'][x].split(\"\\n\")[2].replace(\"(\", \"\").replace(\")\", \"\").split(\",\")[0]\n",
    "   smoke_data.loc[x, 'LONGITUDE']=smoke_data['LOCATION'][x].split(\"\\n\")[2].replace(\"(\", \"\").replace(\")\", \"\").split(\",\")[1]\n",
    "\n",
    "# print the updated DataFrame\n",
    "smoke_data.head()"
   ]
  }
 ],
 "metadata": {
  "kernelspec": {
   "display_name": "Python 3 (ipykernel)",
   "language": "python",
   "name": "python3"
  },
  "language_info": {
   "codemirror_mode": {
    "name": "ipython",
    "version": 3
   },
   "file_extension": ".py",
   "mimetype": "text/x-python",
   "name": "python",
   "nbconvert_exporter": "python",
   "pygments_lexer": "ipython3",
   "version": "3.9.12"
  }
 },
 "nbformat": 4,
 "nbformat_minor": 5
}
